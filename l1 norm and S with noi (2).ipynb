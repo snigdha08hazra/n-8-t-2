{
 "cells": [
  {
   "cell_type": "code",
   "execution_count": 1,
   "id": "7ced57ef",
   "metadata": {},
   "outputs": [],
   "source": [
    "from qiskit.quantum_info import Statevector, Operator\n",
    "from qiskit import QuantumCircuit, Aer, execute\n",
    "import numpy as np\n",
    "import math\n",
    "import matplotlib.pyplot as pl\n",
    "import random"
   ]
  },
  {
   "cell_type": "markdown",
   "id": "3f391b16",
   "metadata": {},
   "source": [
    "To plot coherence l1 norm (l1), relative entropy(S) and success probability(P) as a funciton of number of iteration(noi) taking the Grover's operator as G = DO"
   ]
  },
  {
   "cell_type": "markdown",
   "id": "bb4eb2d5",
   "metadata": {},
   "source": [
    "O = ( I-2|ψ⟩⟨ψ| ) and D = ( 2|ψ1⟩⟨ψ1|-I )"
   ]
  },
  {
   "attachments": {
    "image-3.png": {
     "image/png": "[encoded data removed]"
    },
    "image-4.png": {
     "image/png": "[encoded data removed]"
    },
    "image-5.png": {
     "image/png": "[encoded data removed]"
    },
    "image-6.png": {
     "image/png": "[encoded data removed]"
    },
    "image-7.png": {
     "image/png": "[encoded data removed]"
    },
    "image-8.png": {
     "image/png": "[encoded data removed]"
    },
    "image.png": {
     "image/png": "[encoded data removed]"
    }
   },
   "cell_type": "markdown",
   "id": "318c0daf",
   "metadata": {},
   "source": [
    "l1 norm of coherence is given by![image.png](attachment:image.png)\n",
    "\n",
    "relative entropy is given by![image-8.png](attachment:image-8.png) with \n",
    "\n",
    "![image-3.png](attachment:image-3.png)   ;   ![image-4.png](attachment:image-4.png)   ;   ![image-5.png](attachment:image-5.png)   ;   ![image-6.png](attachment:image-6.png)   \n",
    "Success probability is determined by the formula![image-7.png](attachment:image-7.png)\n",
    "with t = number of target states and j = iteration number"
   ]
  },
  {
   "cell_type": "code",
   "execution_count": 9,
   "id": "3904289c",
   "metadata": {},
   "outputs": [
    {
     "name": "stdout",
     "output_type": "stream",
     "text": [
      "noi =  15\n",
      "Optimal noi =  8\n",
      "target =  [ 25. 161.]\n",
      "phi =  [3.141592653589793]\n",
      "x =  [(-1+1.2246467991473532e-16j)]\n"
     ]
    }
   ],
   "source": [
    "n = 8      #no. of qubits\n",
    "N = 2**n   #dimension of matrix\n",
    "t = 2      #no. of target states\n",
    "length = list(range(n))\n",
    "noi = 15   #taking same number of iteration for all cases\n",
    "noi_opt = math.floor(math.sqrt(N/t) * np.pi / 4)   #optimal No of iterations\n",
    "print(\"noi = \", noi)\n",
    "print(\"Optimal noi = \",noi_opt)\n",
    "\n",
    "#to set target states by randomly generating them\n",
    "target = np.zeros(t)    #to store target states\n",
    "count = 0\n",
    "flag = 0\n",
    "i = 0\n",
    "while(True):\n",
    "    #to generate a random integer for target position\n",
    "    a = random.randint(0,N-1)\n",
    "    \n",
    "    #checking if that number has already been chosen previously as target state\n",
    "    for j in range(count):\n",
    "        if(target[j] == a):\n",
    "            flag = 1  #value is present in the target array\n",
    "            \n",
    "    #to store new value in target array\n",
    "    if(flag == 0):\n",
    "        #to store in count position of target array\n",
    "        target[count] = a\n",
    "        #updating count (position) value\n",
    "        count += 1\n",
    "        #checking for further iteration of while loop\n",
    "        if(count == t):\n",
    "            break\n",
    "print(\"target = \",target)\n",
    "\n",
    "phi = [np.pi]    #setting at a particular value\n",
    "print(\"phi = \",phi)\n",
    "\n",
    "x = [complex(np.cos(a), np.sin(a)) for a in phi]\n",
    "print(\"x = \",x)\n",
    "\n",
    "#array to store coherence values after each suboperation in every grover's iteration\n",
    "l1 = np.zeros(noi)    #to store l1 norm of coherence values after each iteration\n",
    "S  = np.zeros(noi)    #to store relative entropy values after each iteration\n",
    "P  = np.zeros(noi)    #to store success probability after each iteration\n",
    "x_axis = list(range(noi))    #to store iteration number"
   ]
  },
  {
   "cell_type": "code",
   "execution_count": 10,
   "id": "cb292786",
   "metadata": {
    "scrolled": true
   },
   "outputs": [
    {
     "name": "stdout",
     "output_type": "stream",
     "text": [
      "======================================== FOR ϕ =  180.0 ========================================\n"
     ]
    },
    {
     "data": {
      "text/plain": [
       "'initialised |ψ0⟩'"
      ]
     },
     "metadata": {},
     "output_type": "display_data"
    },
    {
     "data": {
      "text/latex": [
       "$$ |00000000\\rangle$$"
      ],
      "text/plain": [
       "<IPython.core.display.Latex object>"
      ]
     },
     "metadata": {},
     "output_type": "display_data"
    },
    {
     "name": "stdout",
     "output_type": "stream",
     "text": [
      "coherence of |ψ0⟩ =  0.0\n"
     ]
    },
    {
     "data": {
      "text/plain": [
       "'applied Hadamard to all |ψ1⟩'"
      ]
     },
     "metadata": {},
     "output_type": "display_data"
    },
    {
     "data": {
      "text/latex": [
       "$$\\frac{1}{16} |00000000\\rangle+\\frac{1}{16} |00000001\\rangle+\\frac{1}{16} |00000010\\rangle+\\frac{1}{16} |00000011\\rangle+\\frac{1}{16} |00000100\\rangle+\\frac{1}{16} |00000101\\rangle + \\ldots +\\frac{1}{16} |11111011\\rangle+\\frac{1}{16} |11111100\\rangle+\\frac{1}{16} |11111101\\rangle+\\frac{1}{16} |11111110\\rangle+\\frac{1}{16} |11111111\\rangle$$"
      ],
      "text/plain": [
       "<IPython.core.display.Latex object>"
      ]
     },
     "metadata": {},
     "output_type": "display_data"
    },
    {
     "name": "stdout",
     "output_type": "stream",
     "text": [
      "coherence of |ψ1⟩ =  255.00000000000003\n",
      "-------- 1  ITERATION--------\n"
     ]
    },
    {
     "data": {
      "text/plain": [
       "'applied O operator to |ψ2⟩'"
      ]
     },
     "metadata": {},
     "output_type": "display_data"
    },
    {
     "data": {
      "text/latex": [
       "$$\\frac{1}{16} |00000000\\rangle+\\frac{1}{16} |00000001\\rangle+\\frac{1}{16} |00000010\\rangle+\\frac{1}{16} |00000011\\rangle+\\frac{1}{16} |00000100\\rangle+\\frac{1}{16} |00000101\\rangle + \\ldots +\\frac{1}{16} |11111011\\rangle+\\frac{1}{16} |11111100\\rangle+\\frac{1}{16} |11111101\\rangle+\\frac{1}{16} |11111110\\rangle+\\frac{1}{16} |11111111\\rangle$$"
      ],
      "text/plain": [
       "<IPython.core.display.Latex object>"
      ]
     },
     "metadata": {},
     "output_type": "display_data"
    },
    {
     "data": {
      "text/plain": [
       "'applied D operator to |ψ2⟩'"
      ]
     },
     "metadata": {},
     "output_type": "display_data"
    },
    {
     "data": {
      "text/latex": [
       "$$\\frac{31}{512} |00000000\\rangle+\\frac{31}{512} |00000001\\rangle+\\frac{31}{512} |00000010\\rangle+\\frac{31}{512} |00000011\\rangle+\\frac{31}{512} |00000100\\rangle+\\frac{31}{512} |00000101\\rangle + \\ldots +\\frac{31}{512} |11111011\\rangle+\\frac{31}{512} |11111100\\rangle+\\frac{31}{512} |11111101\\rangle+\\frac{31}{512} |11111110\\rangle+\\frac{31}{512} |11111111\\rangle$$"
      ],
      "text/plain": [
       "<IPython.core.display.Latex object>"
      ]
     },
     "metadata": {},
     "output_type": "display_data"
    },
    {
     "name": "stdout",
     "output_type": "stream",
     "text": [
      "coherence of |ψ2⟩ =  247.0625\n",
      "l1 norm =  247.0625\n",
      "relative entropy =  7.80553715533358\n",
      "-------- 2  ITERATION--------\n"
     ]
    },
    {
     "data": {
      "text/plain": [
       "'applied O operator to |ψ2⟩'"
      ]
     },
     "metadata": {},
     "output_type": "display_data"
    },
    {
     "data": {
      "text/latex": [
       "$$\\frac{31}{512} |00000000\\rangle+\\frac{31}{512} |00000001\\rangle+\\frac{31}{512} |00000010\\rangle+\\frac{31}{512} |00000011\\rangle+\\frac{31}{512} |00000100\\rangle+\\frac{31}{512} |00000101\\rangle + \\ldots +\\frac{31}{512} |11111011\\rangle+\\frac{31}{512} |11111100\\rangle+\\frac{31}{512} |11111101\\rangle+\\frac{31}{512} |11111110\\rangle+\\frac{31}{512} |11111111\\rangle$$"
      ],
      "text/plain": [
       "<IPython.core.display.Latex object>"
      ]
     },
     "metadata": {},
     "output_type": "display_data"
    },
    {
     "data": {
      "text/plain": [
       "'applied D operator to |ψ2⟩'"
      ]
     },
     "metadata": {},
     "output_type": "display_data"
    },
    {
     "data": {
      "text/latex": [
       "$$0.056701660156 |00000000\\rangle+0.056701660156 |00000001\\rangle+0.056701660156 |00000010\\rangle+0.056701660156 |00000011\\rangle+0.056701660156 |00000100\\rangle+0.056701660156 |00000101\\rangle + \\ldots +0.056701660156 |11111011\\rangle+0.056701660156 |11111100\\rangle+0.056701660156 |11111101\\rangle+0.056701660156 |11111110\\rangle+0.056701660156 |11111111\\rangle$$"
      ],
      "text/plain": [
       "<IPython.core.display.Latex object>"
      ]
     },
     "metadata": {},
     "output_type": "display_data"
    },
    {
     "name": "stdout",
     "output_type": "stream",
     "text": [
      "coherence of |ψ2⟩ =  224.23443603515625\n",
      "l1 norm =  224.23443603515625\n",
      "relative entropy =  7.3945631049496\n",
      "-------- 3  ITERATION--------\n"
     ]
    },
    {
     "data": {
      "text/plain": [
       "'applied O operator to |ψ2⟩'"
      ]
     },
     "metadata": {},
     "output_type": "display_data"
    },
    {
     "data": {
      "text/latex": [
       "$$0.056701660156 |00000000\\rangle+0.056701660156 |00000001\\rangle+0.056701660156 |00000010\\rangle+0.056701660156 |00000011\\rangle+0.056701660156 |00000100\\rangle+0.056701660156 |00000101\\rangle + \\ldots +0.056701660156 |11111011\\rangle+0.056701660156 |11111100\\rangle+0.056701660156 |11111101\\rangle+0.056701660156 |11111110\\rangle+0.056701660156 |11111111\\rangle$$"
      ],
      "text/plain": [
       "<IPython.core.display.Latex object>"
      ]
     },
     "metadata": {},
     "output_type": "display_data"
    },
    {
     "data": {
      "text/plain": [
       "'applied D operator to |ψ2⟩'"
      ]
     },
     "metadata": {},
     "output_type": "display_data"
    },
    {
     "data": {
      "text/latex": [
       "$$0.051084518433 |00000000\\rangle+0.051084518433 |00000001\\rangle+0.051084518433 |00000010\\rangle+0.051084518433 |00000011\\rangle+0.051084518433 |00000100\\rangle+0.051084518433 |00000101\\rangle + \\ldots +0.051084518433 |11111011\\rangle+0.051084518433 |11111100\\rangle+0.051084518433 |11111101\\rangle+0.051084518433 |11111110\\rangle+0.051084518433 |11111111\\rangle$$"
      ],
      "text/plain": [
       "<IPython.core.display.Latex object>"
      ]
     },
     "metadata": {},
     "output_type": "display_data"
    },
    {
     "name": "stdout",
     "output_type": "stream",
     "text": [
      "coherence of |ψ2⟩ =  189.34702306985855\n",
      "l1 norm =  189.34702306985855\n",
      "relative entropy =  6.747938398098569\n",
      "-------- 4  ITERATION--------\n"
     ]
    },
    {
     "data": {
      "text/plain": [
       "'applied O operator to |ψ2⟩'"
      ]
     },
     "metadata": {},
     "output_type": "display_data"
    },
    {
     "data": {
      "text/latex": [
       "$$0.051084518433 |00000000\\rangle+0.051084518433 |00000001\\rangle+0.051084518433 |00000010\\rangle+0.051084518433 |00000011\\rangle+0.051084518433 |00000100\\rangle+0.051084518433 |00000101\\rangle + \\ldots +0.051084518433 |11111011\\rangle+0.051084518433 |11111100\\rangle+0.051084518433 |11111101\\rangle+0.051084518433 |11111110\\rangle+0.051084518433 |11111111\\rangle$$"
      ],
      "text/plain": [
       "<IPython.core.display.Latex object>"
      ]
     },
     "metadata": {},
     "output_type": "display_data"
    },
    {
     "data": {
      "text/plain": [
       "'applied D operator to |ψ2⟩'"
      ]
     },
     "metadata": {},
     "output_type": "display_data"
    },
    {
     "data": {
      "text/latex": [
       "$$0.043870985508 |00000000\\rangle+0.043870985508 |00000001\\rangle+0.043870985508 |00000010\\rangle+0.043870985508 |00000011\\rangle+0.043870985508 |00000100\\rangle+0.043870985508 |00000101\\rangle + \\ldots +0.043870985508 |11111011\\rangle+0.043870985508 |11111100\\rangle+0.043870985508 |11111101\\rangle+0.043870985508 |11111110\\rangle+0.043870985508 |11111111\\rangle$$"
      ],
      "text/plain": [
       "<IPython.core.display.Latex object>"
      ]
     },
     "metadata": {},
     "output_type": "display_data"
    },
    {
     "name": "stdout",
     "output_type": "stream",
     "text": [
      "coherence of |ψ2⟩ =  146.72711798540453\n",
      "l1 norm =  146.72711798540453\n",
      "relative entropy =  5.921722119908617\n",
      "-------- 5  ITERATION--------\n"
     ]
    },
    {
     "data": {
      "text/plain": [
       "'applied O operator to |ψ2⟩'"
      ]
     },
     "metadata": {},
     "output_type": "display_data"
    },
    {
     "data": {
      "text/latex": [
       "$$0.043870985508 |00000000\\rangle+0.043870985508 |00000001\\rangle+0.043870985508 |00000010\\rangle+0.043870985508 |00000011\\rangle+0.043870985508 |00000100\\rangle+0.043870985508 |00000101\\rangle + \\ldots +0.043870985508 |11111011\\rangle+0.043870985508 |11111100\\rangle+0.043870985508 |11111101\\rangle+0.043870985508 |11111110\\rangle+0.043870985508 |11111111\\rangle$$"
      ],
      "text/plain": [
       "<IPython.core.display.Latex object>"
      ]
     },
     "metadata": {},
     "output_type": "display_data"
    },
    {
     "data": {
      "text/plain": [
       "'applied D operator to |ψ2⟩'"
      ]
     },
     "metadata": {},
     "output_type": "display_data"
    },
    {
     "data": {
      "text/latex": [
       "$$0.035286484286 |00000000\\rangle+0.035286484286 |00000001\\rangle+0.035286484286 |00000010\\rangle+0.035286484286 |00000011\\rangle+0.035286484286 |00000100\\rangle+0.035286484286 |00000101\\rangle + \\ldots +0.035286484286 |11111011\\rangle+0.035286484286 |11111100\\rangle+0.035286484286 |11111101\\rangle+0.035286484286 |11111110\\rangle+0.035286484286 |11111111\\rangle$$"
      ],
      "text/plain": [
       "<IPython.core.display.Latex object>"
      ]
     },
     "metadata": {},
     "output_type": "display_data"
    },
    {
     "name": "stdout",
     "output_type": "stream",
     "text": [
      "coherence of |ψ2⟩ =  101.6605879166111\n",
      "l1 norm =  101.6605879166111\n",
      "relative entropy =  5.008974041463491\n",
      "-------- 6  ITERATION--------\n"
     ]
    },
    {
     "data": {
      "text/plain": [
       "'applied O operator to |ψ2⟩'"
      ]
     },
     "metadata": {},
     "output_type": "display_data"
    },
    {
     "data": {
      "text/latex": [
       "$$0.035286484286 |00000000\\rangle+0.035286484286 |00000001\\rangle+0.035286484286 |00000010\\rangle+0.035286484286 |00000011\\rangle+0.035286484286 |00000100\\rangle+0.035286484286 |00000101\\rangle + \\ldots +0.035286484286 |11111011\\rangle+0.035286484286 |11111100\\rangle+0.035286484286 |11111101\\rangle+0.035286484286 |11111110\\rangle+0.035286484286 |11111111\\rangle$$"
      ],
      "text/plain": [
       "<IPython.core.display.Latex object>"
      ]
     },
     "metadata": {},
     "output_type": "display_data"
    },
    {
     "data": {
      "text/plain": [
       "'applied D operator to |ψ2⟩'"
      ]
     },
     "metadata": {},
     "output_type": "display_data"
    },
    {
     "data": {
      "text/latex": [
       "$$0.02559928043 |00000000\\rangle+0.02559928043 |00000001\\rangle+0.02559928043 |00000010\\rangle+0.02559928043 |00000011\\rangle+0.02559928043 |00000100\\rangle+0.02559928043 |00000101\\rangle + \\ldots +0.02559928043 |11111011\\rangle+0.02559928043 |11111100\\rangle+0.02559928043 |11111101\\rangle+0.02559928043 |11111110\\rangle+0.02559928043 |11111111\\rangle$$"
      ],
      "text/plain": [
       "<IPython.core.display.Latex object>"
      ]
     },
     "metadata": {},
     "output_type": "display_data"
    },
    {
     "name": "stdout",
     "output_type": "stream",
     "text": [
      "coherence of |ψ2⟩ =  59.736738838749986\n",
      "l1 norm =  59.736738838749986\n",
      "relative entropy =  4.130135423885546\n",
      "-------- 7  ITERATION--------\n"
     ]
    },
    {
     "data": {
      "text/plain": [
       "'applied O operator to |ψ2⟩'"
      ]
     },
     "metadata": {},
     "output_type": "display_data"
    },
    {
     "data": {
      "text/latex": [
       "$$0.02559928043 |00000000\\rangle+0.02559928043 |00000001\\rangle+0.02559928043 |00000010\\rangle+0.02559928043 |00000011\\rangle+0.02559928043 |00000100\\rangle+0.02559928043 |00000101\\rangle + \\ldots +0.02559928043 |11111011\\rangle+0.02559928043 |11111100\\rangle+0.02559928043 |11111101\\rangle+0.02559928043 |11111110\\rangle+0.02559928043 |11111111\\rangle$$"
      ],
      "text/plain": [
       "<IPython.core.display.Latex object>"
      ]
     },
     "metadata": {},
     "output_type": "display_data"
    },
    {
     "data": {
      "text/plain": [
       "'applied D operator to |ψ2⟩'"
      ]
     },
     "metadata": {},
     "output_type": "display_data"
    },
    {
     "data": {
      "text/latex": [
       "$$\\frac{21 \\cdot 2^{\\frac{29}{57}} \\cdot \\sqrt[19]{3} \\cdot 5^{\\frac{71}{114}} \\cdot 7^{\\frac{13}{19}} \\pi^{\\frac{197}{114}}}{156250} |00000000\\rangle+\\frac{21 \\cdot 2^{\\frac{29}{57}} \\cdot \\sqrt[19]{3} \\cdot 5^{\\frac{71}{114}} \\cdot 7^{\\frac{13}{19}} \\pi^{\\frac{197}{114}}}{156250} |00000001\\rangle+\\frac{21 \\cdot 2^{\\frac{29}{57}} \\cdot \\sqrt[19]{3} \\cdot 5^{\\frac{71}{114}} \\cdot 7^{\\frac{13}{19}} \\pi^{\\frac{197}{114}}}{156250} |00000010\\rangle+\\frac{21 \\cdot 2^{\\frac{29}{57}} \\cdot \\sqrt[19]{3} \\cdot 5^{\\frac{71}{114}} \\cdot 7^{\\frac{13}{19}} \\pi^{\\frac{197}{114}}}{156250} |00000011\\rangle+\\frac{21 \\cdot 2^{\\frac{29}{57}} \\cdot \\sqrt[19]{3} \\cdot 5^{\\frac{71}{114}} \\cdot 7^{\\frac{13}{19}} \\pi^{\\frac{197}{114}}}{156250} |00000100\\rangle+\\frac{21 \\cdot 2^{\\frac{29}{57}} \\cdot \\sqrt[19]{3} \\cdot 5^{\\frac{71}{114}} \\cdot 7^{\\frac{13}{19}} \\pi^{\\frac{197}{114}}}{156250} |00000101\\rangle + \\ldots +\\frac{21 \\cdot 2^{\\frac{29}{57}} \\cdot \\sqrt[19]{3} \\cdot 5^{\\frac{71}{114}} \\cdot 7^{\\frac{13}{19}} \\pi^{\\frac{197}{114}}}{156250} |11111011\\rangle+\\frac{21 \\cdot 2^{\\frac{29}{57}} \\cdot \\sqrt[19]{3} \\cdot 5^{\\frac{71}{114}} \\cdot 7^{\\frac{13}{19}} \\pi^{\\frac{197}{114}}}{156250} |11111100\\rangle+\\frac{21 \\cdot 2^{\\frac{29}{57}} \\cdot \\sqrt[19]{3} \\cdot 5^{\\frac{71}{114}} \\cdot 7^{\\frac{13}{19}} \\pi^{\\frac{197}{114}}}{156250} |11111101\\rangle+\\frac{21 \\cdot 2^{\\frac{29}{57}} \\cdot \\sqrt[19]{3} \\cdot 5^{\\frac{71}{114}} \\cdot 7^{\\frac{13}{19}} \\pi^{\\frac{197}{114}}}{156250} |11111110\\rangle+\\frac{21 \\cdot 2^{\\frac{29}{57}} \\cdot \\sqrt[19]{3} \\cdot 5^{\\frac{71}{114}} \\cdot 7^{\\frac{13}{19}} \\pi^{\\frac{197}{114}}}{156250} |11111111\\rangle$$"
      ],
      "text/plain": [
       "<IPython.core.display.Latex object>"
      ]
     },
     "metadata": {},
     "output_type": "display_data"
    },
    {
     "name": "stdout",
     "output_type": "stream",
     "text": [
      "coherence of |ψ2⟩ =  26.155110627307227\n",
      "l1 norm =  26.155110627307227\n",
      "relative entropy =  3.425730180803666\n",
      "-------- 8  ITERATION--------\n"
     ]
    },
    {
     "data": {
      "text/plain": [
       "'applied O operator to |ψ2⟩'"
      ]
     },
     "metadata": {},
     "output_type": "display_data"
    },
    {
     "data": {
      "text/latex": [
       "$$\\frac{21 \\cdot 2^{\\frac{29}{57}} \\cdot \\sqrt[19]{3} \\cdot 5^{\\frac{71}{114}} \\cdot 7^{\\frac{13}{19}} \\pi^{\\frac{197}{114}}}{156250} |00000000\\rangle+\\frac{21 \\cdot 2^{\\frac{29}{57}} \\cdot \\sqrt[19]{3} \\cdot 5^{\\frac{71}{114}} \\cdot 7^{\\frac{13}{19}} \\pi^{\\frac{197}{114}}}{156250} |00000001\\rangle+\\frac{21 \\cdot 2^{\\frac{29}{57}} \\cdot \\sqrt[19]{3} \\cdot 5^{\\frac{71}{114}} \\cdot 7^{\\frac{13}{19}} \\pi^{\\frac{197}{114}}}{156250} |00000010\\rangle+\\frac{21 \\cdot 2^{\\frac{29}{57}} \\cdot \\sqrt[19]{3} \\cdot 5^{\\frac{71}{114}} \\cdot 7^{\\frac{13}{19}} \\pi^{\\frac{197}{114}}}{156250} |00000011\\rangle+\\frac{21 \\cdot 2^{\\frac{29}{57}} \\cdot \\sqrt[19]{3} \\cdot 5^{\\frac{71}{114}} \\cdot 7^{\\frac{13}{19}} \\pi^{\\frac{197}{114}}}{156250} |00000100\\rangle+\\frac{21 \\cdot 2^{\\frac{29}{57}} \\cdot \\sqrt[19]{3} \\cdot 5^{\\frac{71}{114}} \\cdot 7^{\\frac{13}{19}} \\pi^{\\frac{197}{114}}}{156250} |00000101\\rangle + \\ldots +\\frac{21 \\cdot 2^{\\frac{29}{57}} \\cdot \\sqrt[19]{3} \\cdot 5^{\\frac{71}{114}} \\cdot 7^{\\frac{13}{19}} \\pi^{\\frac{197}{114}}}{156250} |11111011\\rangle+\\frac{21 \\cdot 2^{\\frac{29}{57}} \\cdot \\sqrt[19]{3} \\cdot 5^{\\frac{71}{114}} \\cdot 7^{\\frac{13}{19}} \\pi^{\\frac{197}{114}}}{156250} |11111100\\rangle+\\frac{21 \\cdot 2^{\\frac{29}{57}} \\cdot \\sqrt[19]{3} \\cdot 5^{\\frac{71}{114}} \\cdot 7^{\\frac{13}{19}} \\pi^{\\frac{197}{114}}}{156250} |11111101\\rangle+\\frac{21 \\cdot 2^{\\frac{29}{57}} \\cdot \\sqrt[19]{3} \\cdot 5^{\\frac{71}{114}} \\cdot 7^{\\frac{13}{19}} \\pi^{\\frac{197}{114}}}{156250} |11111110\\rangle+\\frac{21 \\cdot 2^{\\frac{29}{57}} \\cdot \\sqrt[19]{3} \\cdot 5^{\\frac{71}{114}} \\cdot 7^{\\frac{13}{19}} \\pi^{\\frac{197}{114}}}{156250} |11111111\\rangle$$"
      ],
      "text/plain": [
       "<IPython.core.display.Latex object>"
      ]
     },
     "metadata": {},
     "output_type": "display_data"
    },
    {
     "data": {
      "text/plain": [
       "'applied D operator to |ψ2⟩'"
      ]
     },
     "metadata": {},
     "output_type": "display_data"
    },
    {
     "data": {
      "text/latex": [
       "$$0.004152664596 |00000000\\rangle+0.004152664596 |00000001\\rangle+0.004152664596 |00000010\\rangle+0.004152664596 |00000011\\rangle+0.004152664596 |00000100\\rangle+0.004152664596 |00000101\\rangle + \\ldots +0.004152664596 |11111011\\rangle+0.004152664596 |11111100\\rangle+0.004152664596 |11111101\\rangle+0.004152664596 |11111110\\rangle+0.004152664596 |11111111\\rangle$$"
      ],
      "text/plain": [
       "<IPython.core.display.Latex object>"
      ]
     },
     "metadata": {},
     "output_type": "display_data"
    },
    {
     "name": "stdout",
     "output_type": "stream",
     "text": [
      "coherence of |ψ2⟩ =  5.080612250233529\n",
      "l1 norm =  5.080612250233529\n",
      "relative entropy =  3.0623228999959133\n",
      "-------- 9  ITERATION--------\n"
     ]
    },
    {
     "data": {
      "text/plain": [
       "'applied O operator to |ψ2⟩'"
      ]
     },
     "metadata": {},
     "output_type": "display_data"
    },
    {
     "data": {
      "text/latex": [
       "$$0.004152664596 |00000000\\rangle+0.004152664596 |00000001\\rangle+0.004152664596 |00000010\\rangle+0.004152664596 |00000011\\rangle+0.004152664596 |00000100\\rangle+0.004152664596 |00000101\\rangle + \\ldots +0.004152664596 |11111011\\rangle+0.004152664596 |11111100\\rangle+0.004152664596 |11111101\\rangle+0.004152664596 |11111110\\rangle+0.004152664596 |11111111\\rangle$$"
      ],
      "text/plain": [
       "<IPython.core.display.Latex object>"
      ]
     },
     "metadata": {},
     "output_type": "display_data"
    },
    {
     "data": {
      "text/plain": [
       "'applied D operator to |ψ2⟩'"
      ]
     },
     "metadata": {},
     "output_type": "display_data"
    },
    {
     "data": {
      "text/latex": [
       "$$-0.006936540637 |00000000\\rangle-0.006936540637 |00000001\\rangle-0.006936540637 |00000010\\rangle-0.006936540637 |00000011\\rangle-0.006936540637 |00000100\\rangle-0.006936540637 |00000101\\rangle + \\ldots -0.006936540637 |11111011\\rangle-0.006936540637 |11111100\\rangle-0.006936540637 |11111101\\rangle-0.006936540637 |11111110\\rangle-0.006936540637 |11111111\\rangle$$"
      ],
      "text/plain": [
       "<IPython.core.display.Latex object>"
      ]
     },
     "metadata": {},
     "output_type": "display_data"
    },
    {
     "name": "stdout",
     "output_type": "stream",
     "text": [
      "coherence of |ψ2⟩ =  9.032590698857652\n",
      "l1 norm =  9.032590698857652\n",
      "relative entropy =  3.323507629354647\n",
      "-------- 10  ITERATION--------\n"
     ]
    },
    {
     "data": {
      "text/plain": [
       "'applied O operator to |ψ2⟩'"
      ]
     },
     "metadata": {},
     "output_type": "display_data"
    },
    {
     "data": {
      "text/latex": [
       "$$-0.006936540637 |00000000\\rangle-0.006936540637 |00000001\\rangle-0.006936540637 |00000010\\rangle-0.006936540637 |00000011\\rangle-0.006936540637 |00000100\\rangle-0.006936540637 |00000101\\rangle + \\ldots -0.006936540637 |11111011\\rangle-0.006936540637 |11111100\\rangle-0.006936540637 |11111101\\rangle-0.006936540637 |11111110\\rangle-0.006936540637 |11111111\\rangle$$"
      ],
      "text/plain": [
       "<IPython.core.display.Latex object>"
      ]
     },
     "metadata": {},
     "output_type": "display_data"
    },
    {
     "data": {
      "text/plain": [
       "'applied D operator to |ψ2⟩'"
      ]
     },
     "metadata": {},
     "output_type": "display_data"
    },
    {
     "data": {
      "text/latex": [
       "$$-0.017808978976 |00000000\\rangle-0.017808978976 |00000001\\rangle-0.017808978976 |00000010\\rangle-0.017808978976 |00000011\\rangle-0.017808978976 |00000100\\rangle-0.017808978976 |00000101\\rangle + \\ldots -0.017808978976 |11111011\\rangle-0.017808978976 |11111100\\rangle-0.017808978976 |11111101\\rangle-0.017808978976 |11111110\\rangle-0.017808978976 |11111111\\rangle$$"
      ],
      "text/plain": [
       "<IPython.core.display.Latex object>"
      ]
     },
     "metadata": {},
     "output_type": "display_data"
    },
    {
     "name": "stdout",
     "output_type": "stream",
     "text": [
      "coherence of |ψ2⟩ =  33.568929572405345\n",
      "l1 norm =  33.568929572405345\n",
      "relative entropy =  4.098300239460129\n",
      "-------- 11  ITERATION--------\n"
     ]
    },
    {
     "data": {
      "text/plain": [
       "'applied O operator to |ψ2⟩'"
      ]
     },
     "metadata": {},
     "output_type": "display_data"
    },
    {
     "data": {
      "text/latex": [
       "$$-0.017808978976 |00000000\\rangle-0.017808978976 |00000001\\rangle-0.017808978976 |00000010\\rangle-0.017808978976 |00000011\\rangle-0.017808978976 |00000100\\rangle-0.017808978976 |00000101\\rangle + \\ldots -0.017808978976 |11111011\\rangle-0.017808978976 |11111100\\rangle-0.017808978976 |11111101\\rangle-0.017808978976 |11111110\\rangle-0.017808978976 |11111111\\rangle$$"
      ],
      "text/plain": [
       "<IPython.core.display.Latex object>"
      ]
     },
     "metadata": {},
     "output_type": "display_data"
    },
    {
     "data": {
      "text/plain": [
       "'applied D operator to |ψ2⟩'"
      ]
     },
     "metadata": {},
     "output_type": "display_data"
    },
    {
     "data": {
      "text/latex": [
       "$$-0.028124886721 |00000000\\rangle-0.028124886721 |00000001\\rangle-0.028124886721 |00000010\\rangle-0.028124886721 |00000011\\rangle-0.028124886721 |00000100\\rangle-0.028124886721 |00000101\\rangle + \\ldots -0.028124886721 |11111011\\rangle-0.028124886721 |11111100\\rangle-0.028124886721 |11111101\\rangle-0.028124886721 |11111110\\rangle-0.028124886721 |11111111\\rangle$$"
      ],
      "text/plain": [
       "<IPython.core.display.Latex object>"
      ]
     },
     "metadata": {},
     "output_type": "display_data"
    },
    {
     "name": "stdout",
     "output_type": "stream",
     "text": [
      "coherence of |ψ2⟩ =  69.69291096965232\n",
      "l1 norm =  69.69291096965232\n",
      "relative entropy =  5.082732586048986\n",
      "-------- 12  ITERATION--------\n"
     ]
    },
    {
     "data": {
      "text/plain": [
       "'applied O operator to |ψ2⟩'"
      ]
     },
     "metadata": {},
     "output_type": "display_data"
    },
    {
     "data": {
      "text/latex": [
       "$$-0.028124886721 |00000000\\rangle-0.028124886721 |00000001\\rangle-0.028124886721 |00000010\\rangle-0.028124886721 |00000011\\rangle-0.028124886721 |00000100\\rangle-0.028124886721 |00000101\\rangle + \\ldots -0.028124886721 |11111011\\rangle-0.028124886721 |11111100\\rangle-0.028124886721 |11111101\\rangle-0.028124886721 |11111110\\rangle-0.028124886721 |11111111\\rangle$$"
      ],
      "text/plain": [
       "<IPython.core.display.Latex object>"
      ]
     },
     "metadata": {},
     "output_type": "display_data"
    },
    {
     "data": {
      "text/plain": [
       "'applied D operator to |ψ2⟩'"
      ]
     },
     "metadata": {},
     "output_type": "display_data"
    },
    {
     "data": {
      "text/latex": [
       "$$-0.037561891757 |00000000\\rangle-0.037561891757 |00000001\\rangle-0.037561891757 |00000010\\rangle-0.037561891757 |00000011\\rangle-0.037561891757 |00000100\\rangle-0.037561891757 |00000101\\rangle + \\ldots -0.037561891757 |11111011\\rangle-0.037561891757 |11111100\\rangle-0.037561891757 |11111101\\rangle-0.037561891757 |11111110\\rangle-0.037561891757 |11111111\\rangle$$"
      ],
      "text/plain": [
       "<IPython.core.display.Latex object>"
      ]
     },
     "metadata": {},
     "output_type": "display_data"
    },
    {
     "name": "stdout",
     "output_type": "stream",
     "text": [
      "coherence of |ψ2⟩ =  112.92431454147359\n",
      "l1 norm =  112.92431454147359\n",
      "relative entropy =  6.083666763666811\n",
      "-------- 13  ITERATION--------\n"
     ]
    },
    {
     "data": {
      "text/plain": [
       "'applied O operator to |ψ2⟩'"
      ]
     },
     "metadata": {},
     "output_type": "display_data"
    },
    {
     "data": {
      "text/latex": [
       "$$-0.037561891757 |00000000\\rangle-0.037561891757 |00000001\\rangle-0.037561891757 |00000010\\rangle-0.037561891757 |00000011\\rangle-0.037561891757 |00000100\\rangle-0.037561891757 |00000101\\rangle + \\ldots -0.037561891757 |11111011\\rangle-0.037561891757 |11111100\\rangle-0.037561891757 |11111101\\rangle-0.037561891757 |11111110\\rangle-0.037561891757 |11111111\\rangle$$"
      ],
      "text/plain": [
       "<IPython.core.display.Latex object>"
      ]
     },
     "metadata": {},
     "output_type": "display_data"
    },
    {
     "data": {
      "text/plain": [
       "'applied D operator to |ψ2⟩'"
      ]
     },
     "metadata": {},
     "output_type": "display_data"
    },
    {
     "data": {
      "text/latex": [
       "$$-0.045825087675 |00000000\\rangle-0.045825087675 |00000001\\rangle-0.045825087675 |00000010\\rangle-0.045825087675 |00000011\\rangle-0.045825087675 |00000100\\rangle-0.045825087675 |00000101\\rangle + \\ldots -0.045825087675 |11111011\\rangle-0.045825087675 |11111100\\rangle-0.045825087675 |11111101\\rangle-0.045825087675 |11111110\\rangle-0.045825087675 |11111111\\rangle$$"
      ],
      "text/plain": [
       "<IPython.core.display.Latex object>"
      ]
     },
     "metadata": {},
     "output_type": "display_data"
    },
    {
     "name": "stdout",
     "output_type": "stream",
     "text": [
      "coherence of |ψ2⟩ =  157.9014330093853\n",
      "l1 norm =  157.9014330093853\n",
      "relative entropy =  6.950436127970049\n",
      "-------- 14  ITERATION--------\n"
     ]
    },
    {
     "data": {
      "text/plain": [
       "'applied O operator to |ψ2⟩'"
      ]
     },
     "metadata": {},
     "output_type": "display_data"
    },
    {
     "data": {
      "text/latex": [
       "$$-0.045825087675 |00000000\\rangle-0.045825087675 |00000001\\rangle-0.045825087675 |00000010\\rangle-0.045825087675 |00000011\\rangle-0.045825087675 |00000100\\rangle-0.045825087675 |00000101\\rangle + \\ldots -0.045825087675 |11111011\\rangle-0.045825087675 |11111100\\rangle-0.045825087675 |11111101\\rangle-0.045825087675 |11111110\\rangle-0.045825087675 |11111111\\rangle$$"
      ],
      "text/plain": [
       "<IPython.core.display.Latex object>"
      ]
     },
     "metadata": {},
     "output_type": "display_data"
    },
    {
     "data": {
      "text/plain": [
       "'applied D operator to |ψ2⟩'"
      ]
     },
     "metadata": {},
     "output_type": "display_data"
    },
    {
     "data": {
      "text/latex": [
       "$$-0.052656249603 |00000000\\rangle-0.052656249603 |00000001\\rangle-0.052656249603 |00000010\\rangle-0.052656249603 |00000011\\rangle-0.052656249603 |00000100\\rangle-0.052656249603 |00000101\\rangle + \\ldots -0.052656249603 |11111011\\rangle-0.052656249603 |11111100\\rangle-0.052656249603 |11111101\\rangle-0.052656249603 |11111110\\rangle-0.052656249603 |11111111\\rangle$$"
      ],
      "text/plain": [
       "<IPython.core.display.Latex object>"
      ]
     },
     "metadata": {},
     "output_type": "display_data"
    },
    {
     "name": "stdout",
     "output_type": "stream",
     "text": [
      "coherence of |ψ2⟩ =  199.04604953178875\n",
      "l1 norm =  199.04604953178875\n",
      "relative entropy =  7.57894927965902\n",
      "-------- 15  ITERATION--------\n"
     ]
    },
    {
     "data": {
      "text/plain": [
       "'applied O operator to |ψ2⟩'"
      ]
     },
     "metadata": {},
     "output_type": "display_data"
    },
    {
     "data": {
      "text/latex": [
       "$$-0.052656249603 |00000000\\rangle-0.052656249603 |00000001\\rangle-0.052656249603 |00000010\\rangle-0.052656249603 |00000011\\rangle-0.052656249603 |00000100\\rangle-0.052656249603 |00000101\\rangle + \\ldots -0.052656249603 |11111011\\rangle-0.052656249603 |11111100\\rangle-0.052656249603 |11111101\\rangle-0.052656249603 |11111110\\rangle-0.052656249603 |11111111\\rangle$$"
      ],
      "text/plain": [
       "<IPython.core.display.Latex object>"
      ]
     },
     "metadata": {},
     "output_type": "display_data"
    },
    {
     "data": {
      "text/plain": [
       "'applied D operator to |ψ2⟩'"
      ]
     },
     "metadata": {},
     "output_type": "display_data"
    },
    {
     "data": {
      "text/latex": [
       "$$-0.057841903731 |00000000\\rangle-0.057841903731 |00000001\\rangle-0.057841903731 |00000010\\rangle-0.057841903731 |00000011\\rangle-0.057841903731 |00000100\\rangle-0.057841903731 |00000101\\rangle + \\ldots -0.057841903731 |11111011\\rangle-0.057841903731 |11111100\\rangle-0.057841903731 |11111101\\rangle-0.057841903731 |11111110\\rangle-0.057841903731 |11111111\\rangle$$"
      ],
      "text/plain": [
       "<IPython.core.display.Latex object>"
      ]
     },
     "metadata": {},
     "output_type": "display_data"
    },
    {
     "name": "stdout",
     "output_type": "stream",
     "text": [
      "coherence of |ψ2⟩ =  231.2552673323908\n",
      "l1 norm =  231.2552673323908\n",
      "relative entropy =  7.92153522823481\n"
     ]
    }
   ],
   "source": [
    "def iteration(i,a):\n",
    "    qc.barrier()\n",
    "    #count = i*2\n",
    "    copy_i = i    #storing copy of iteration number\n",
    "    copy_a = a    #storing copy of phi value\n",
    "    \n",
    "    #applying O operator\n",
    "    qc.append(O_operator,length)\n",
    "    result = execute(qc, backend).result()\n",
    "    state = result.get_statevector()\n",
    "    display(\"applied O operator to |ψ2⟩\", state.draw('latex'))\n",
    "    \n",
    "    #Applying D operator\n",
    "    qc.append(D_operator,length)\n",
    "    result = execute(qc, backend).result()\n",
    "    state = result.get_statevector()\n",
    "    display(\"applied D operator to |ψ2⟩\", state.draw('latex'))\n",
    "    density_operator = state.to_operator()\n",
    "    \n",
    "    #calculating coherence by l1 norm\n",
    "    coherence = 0\n",
    "    for i in range(N):\n",
    "        for j in range(N):\n",
    "            if(i != j):\n",
    "                coherence += abs(density_operator.data[i,j])\n",
    "    print(\"coherence of |ψ2⟩ = \",coherence)\n",
    "    l1[copy_i] = coherence\n",
    "    print(\"l1 norm = \",coherence)\n",
    "    \n",
    "    #calculating coherence by relative entropy\n",
    "    j = copy_i+1   #to store the actual iteration number \n",
    "    alpha = 2*np.arctan(np.sqrt(t/(N-t)))\n",
    "    alpha_j = (j+1/2.0)*alpha    \n",
    "    a = np.sin(alpha_j)\n",
    "    a_2 = a**2\n",
    "    H = -(a_2*math.log2(a_2)+(1-a_2)*math.log2(1-a_2))\n",
    "    Cr = H+math.log2(N-j)+a_2*math.log2(j/(N-j))\n",
    "    S[copy_i] = Cr\n",
    "    print(\"relative entropy = \",Cr)\n",
    "    \n",
    "    #calculating success probability\n",
    "    P[copy_i] = np.sin(alpha_j)**2\n",
    "    \n",
    "for a in range(len(phi)):\n",
    "    print(\"======================================== FOR ϕ = \", phi[a]*180/np.pi,\"========================================\")\n",
    "    qc = QuantumCircuit(n)\n",
    "    backend = Aer.get_backend('statevector_simulator')\n",
    "    result = execute(qc, backend).result()\n",
    "    state = result.get_statevector()\n",
    "    display(\"initialised |ψ0⟩\", state.draw('latex'))\n",
    "    density_operator = state.to_operator()\n",
    "    #print(density_operator.data)\n",
    "    coherence = 0\n",
    "    for i in range(N):\n",
    "        for j in range(N):\n",
    "            if(i != j):\n",
    "                coherence += abs(density_operator.data[i,j])\n",
    "    print(\"coherence of |ψ0⟩ = \",coherence)\n",
    "\n",
    "    qc.h(length)\n",
    "    result = execute(qc, backend).result()\n",
    "    state = result.get_statevector()\n",
    "    display(\"applied Hadamard to all |ψ1⟩\", state.draw('latex'))\n",
    "    density_operator = state.to_operator()\n",
    "    #print(density_operator.data)\n",
    "    coherence = 0\n",
    "    for i in range(N):\n",
    "        for j in range(N):\n",
    "            if(i != j):\n",
    "                coherence += abs(density_operator.data[i,j])\n",
    "    print(\"coherence of |ψ1⟩ = \",coherence)\n",
    "\n",
    "    #defining generalised O Operator\n",
    "    count = 0\n",
    "    choice = a\n",
    "    O_operator = Operator(np.zeros((N,N)))\n",
    "    for i in range(N):\n",
    "        for j in range(N):\n",
    "            if(i != j):   #off diagonal elements\n",
    "                O_operator.data[i][j] = 0\n",
    "            else:    #diagonal elements\n",
    "                flag = 0\n",
    "                for k in range(t):\n",
    "                    if(i == target[k]):\n",
    "                        O_operator.data[i][j] = x[choice]\n",
    "                        count += 1\n",
    "                        flag = 1\n",
    "                        break\n",
    "                if(flag == 0):\n",
    "                    O_operator.data[i][j] = 1            \n",
    "   \n",
    "    #defining D operator\n",
    "    D_operator = Operator(np.zeros((N,N)))\n",
    "    for i in range(N):\n",
    "        for j in range(N):\n",
    "            if(i == j):    #for diagonal elements\n",
    "                D_operator.data[i][j] = 2*density_operator.data[i][j]-1\n",
    "            else:          #for off-diagonal elements\n",
    "                D_operator.data[i][j] = 2*density_operator.data[i][j]\n",
    "    \n",
    "    #sending out for x iterations of grover's operator\n",
    "    for i in range(noi):\n",
    "        print(\"--------\",(i+1),\" ITERATION--------\")\n",
    "        iteration(i,a)    #a takes angle phi and i takes noi"
   ]
  },
  {
   "cell_type": "code",
   "execution_count": 11,
   "id": "fd1f8d7d",
   "metadata": {},
   "outputs": [
    {
     "name": "stdout",
     "output_type": "stream",
     "text": [
      "l1 =  [0.965087890625, 0.8759157657623291, 0.739636808866635, 0.5731528046304865, 0.39711167154926214, 0.23334663608886713, 0.10216840088791886, 0.019846141602474724, 0.0352835574174127, 0.13112863114220838, 0.27223793347520436, 0.4411106036776312, 0.6168024726929113, 0.7775236309835498, 0.9033408880171515]\n",
      "S_N =  [0.030490379513021797, 0.028885012128709375, 0.026359134367572534, 0.023131727030893036, 0.01956630484946676, 0.016133341499552915, 0.01338175851876432, 0.011962198828109036, 0.01298245167716659, 0.01600898531039113, 0.019854424164253853, 0.02376432329557348, 0.027150141124883002, 0.029605270623668047, 0.030943496985292227]\n",
      "P =  [0.06885529 0.18337012 0.33715448 0.5111355  0.68373546 0.83354792\n",
      " 0.94199261 0.99561987 0.98777864 0.91944143 0.79908365 0.64163249\n",
      " 0.46661558 0.29573912 0.1501958 ]\n"
     ]
    },
    {
     "data": {
      "image/png": "[encoded data removed]",
      "text/plain": [
       "<Figure size 640x480 with 2 Axes>"
      ]
     },
     "metadata": {},
     "output_type": "display_data"
    }
   ],
   "source": [
    "l1_N = [a/N for a in l1]\n",
    "S_N  = [a/N for a in S]\n",
    "xa   = [a+1 for a in x_axis]\n",
    "\n",
    "print(\"l1 = \",l1_N)\n",
    "print(\"S_N = \",S_N)\n",
    "print(\"P = \",P)\n",
    "\n",
    "fig, ax1 = pl.subplots()\n",
    "pl.title(\"n = {} and t = {}\".format(n, t))\n",
    "color1 = 'tab:red'\n",
    "color2 = 'black'\n",
    "ax1.set_xlabel('----Number of iterations----')\n",
    "ax1.scatter(xa, l1_N, marker='d', color=color1, label='l1_norm/N')\n",
    "ax1.plot(xa, l1_N, color=color1)\n",
    "ax1.scatter(xa, P, color=color2, label='success probability')\n",
    "ax1.plot(xa, P, color=color2)\n",
    "pl.legend()\n",
    "ax1.set_ylabel(\"l1 norm and success probability\")\n",
    "pl.grid(True)\n",
    "\n",
    "ax2 = ax1.twinx()\n",
    "color = 'tab:blue'\n",
    "ax2.scatter(xa, S_N, color=color, label='S/N')\n",
    "ax2.plot(xa, S_N, color=color)\n",
    "pl.legend()\n",
    "ax2.set_ylabel('relatove entropy', color=color)\n",
    "ax2.tick_params(axis='y', labelcolor=color)\n",
    "\n",
    "fig.tight_layout()\n",
    "#pl.grid(True)\n",
    "pl.show()"
   ]
  },
  {
   "cell_type": "code",
   "execution_count": null,
   "id": "979edd6f",
   "metadata": {},
   "outputs": [],
   "source": []
  }
 ],
 "metadata": {
  "kernelspec": {
   "display_name": "Python 3 (ipykernel)",
   "language": "python",
   "name": "python3"
  },
  "language_info": {
   "codemirror_mode": {
    "name": "ipython",
    "version": 3
   },
   "file_extension": ".py",
   "mimetype": "text/x-python",
   "name": "python",
   "nbconvert_exporter": "python",
   "pygments_lexer": "ipython3",
   "version": "3.9.13"
  }
 },
 "nbformat": 4,
 "nbformat_minor": 5
}
